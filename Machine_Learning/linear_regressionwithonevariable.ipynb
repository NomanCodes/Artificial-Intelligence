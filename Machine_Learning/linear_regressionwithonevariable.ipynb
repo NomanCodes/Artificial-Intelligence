from sklearn.linear_model import LinearRegression
import numpy as np
import matplotlib.pyplot as plt
import pandas as pd

# x=np.array([1,2,3,4,5,6,7,8,9])
# y=np.array([2,4,9,10,15,18,22,26,30])
df=pd.read_csv('AIML.csv')
x=df['Experince']
y=df['Salary']
plt.scatter(x,y)

# reshape x to a column vector
# x= x.reshape(-1,1)
x=np.array(x)
x=x.reshape(-1,1)
# create a linear regression object
model=LinearRegression()
# learn a stright line or a regression model
model.fit(x,y)
y_intersept=model.intercept_
x_slope=model.coef_[0]
# predict output for given input
print("slope",  x_slope)
print("y_intersept=", y_intersept)
line=x*x_slope+y_intersept
plt.plot(x,x*x_slope+y_intersept,color='red')
# plt.show()
new_x=np.array([[20],[25],[30],[35]])
predict_z= model.predict(new_x)
plt.scatter(new_x,predict_z,color='yellow')
print(predict_z)
plt.show()
