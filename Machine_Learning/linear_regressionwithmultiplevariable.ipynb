from sklearn.linear_model import LinearRegression
import numpy as np
import matplotlib.pyplot as plt
import pandas as pd

df = pd.read_csv('multiplerows.csv')
x = df[['Experience','Age','Education_Level']]
y = df['Salary']

model = LinearRegression()
model.fit(x, y)

y_intercept = model.intercept_
x_slope = model.coef_
print("Slope Coefficients:", x_slope)
print("Y-Intercept:", y_intercept)

# Predict for custom values
new_x = np.array([[5, 30, 4], [6, 28, 5], [7, 32, 3], [8, 29, 4]])
predict_z = model.predict(new_x)

# Plot predicted salary vs Experience
plt.scatter(new_x[:, 0], predict_z, color='yellow')  # x-axis = Experience
plt.xlabel("Experience")
plt.ylabel("Predicted Salary")
plt.title("Predicted Salary vs Experience")
plt.grid()
plt.show()
